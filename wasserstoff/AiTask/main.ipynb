{
 "cells": [
  {
   "cell_type": "code",
   "execution_count": null,
   "metadata": {},
   "outputs": [],
   "source": [
    "import os\n",
    "from tenacity import retry, stop_after_attempt, wait_exponential\n",
    "from langchain_community.document_loaders import PyPDFLoader\n",
    "from langchain.text_splitter import CharacterTextSplitter\n",
    "from langchain_community.vectorstores import FAISS\n",
    "from langchain_openai.embeddings import OpenAIEmbeddings\n",
    "from langchain.agents.agent_toolkits import create_retriever_tool, create_conversational_retrieval_agent\n",
    "from langchain_openai.chat_models import ChatOpenAI\n",
    "import openai  # Ensure you have the openai module imported correctly\n",
    "\n",
    "# Set the OpenAI API key\n",
    "os.environ[\"OPENAI_API_KEY\"] = \"sk-proj-\""
   ]
  },
  {
   "cell_type": "code",
   "execution_count": null,
   "metadata": {},
   "outputs": [],
   "source": [
    "def execute_agent(input_query):\n",
    "    try:\n",
    "        # Load the document\n",
    "        pdf_loader = PyPDFLoader(\"C://Users//joykh//Desktop//chatbot//chatbot_openai_api//task.pdf\")\n",
    "        pdf_pages = pdf_loader.load_and_split()\n",
    "\n",
    "        # Load the document using LangChain's built-in extractors, formatters, loaders, embeddings, and LLMs\n",
    "        my_documents = pdf_loader.load()\n",
    "        text_splitter = CharacterTextSplitter(chunk_size=1000, chunk_overlap=0)\n",
    "        texts = text_splitter.split_documents(my_documents)\n",
    "\n",
    "        # Using OpenAI default embedding model\n",
    "        embeddings = OpenAIEmbeddings()\n",
    "\n",
    "        # Using LangChain API functions to interact with FAISS\n",
    "        db = FAISS.from_documents(texts, embeddings)\n",
    "\n",
    "        # Using Langchain retriever\n",
    "        retriever = db.as_retriever()\n",
    "\n",
    "        # Creating retriever tool\n",
    "        tool = create_retriever_tool(\n",
    "            retriever,\n",
    "            \"Task_pdf\",\n",
    "            \"Searches and returns documents regarding the book Atomic Habits\"\n",
    "        )\n",
    "        tools = [tool]\n",
    "\n",
    "        # Wrapping LLM with conversational agent\n",
    "        llm = ChatOpenAI(temperature=0)\n",
    "        agent_executor = create_conversational_retrieval_agent(llm, tools, verbose=True)\n",
    "\n",
    "        # Input query\n",
    "        result = agent_executor.invoke({\"input\": input_query})\n",
    "\n",
    "        return result\n",
    "    except Exception as exc:\n",
    "        # Check if the exception is a rate limit error\n",
    "        if isinstance(exc, openai.error.RateLimitError):\n",
    "            raise\n",
    "        else:\n",
    "            raise exc"
   ]
  },
  {
   "cell_type": "code",
   "execution_count": null,
   "metadata": {},
   "outputs": [],
   "source": [
    "# Input query\n",
    "input_query = \"What are the main topic of the document?\"\n",
    "result = execute_agent(input_query)\n",
    "print(result)"
   ]
  }
 ],
 "metadata": {
  "kernelspec": {
   "display_name": "Python 3",
   "language": "python",
   "name": "python3"
  },
  "language_info": {
   "codemirror_mode": {
    "name": "ipython",
    "version": 3
   },
   "file_extension": ".py",
   "mimetype": "text/x-python",
   "name": "python",
   "nbconvert_exporter": "python",
   "pygments_lexer": "ipython3",
   "version": "3.11.4"
  }
 },
 "nbformat": 4,
 "nbformat_minor": 2
}
